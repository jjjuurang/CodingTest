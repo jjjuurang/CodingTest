{
  "nbformat": 4,
  "nbformat_minor": 0,
  "metadata": {
    "colab": {
      "name": "python300.ipynb",
      "provenance": []
    },
    "kernelspec": {
      "name": "python3",
      "display_name": "Python 3"
    },
    "language_info": {
      "name": "python"
    }
  },
  "cells": [
    {
      "cell_type": "code",
      "execution_count": 1,
      "metadata": {
        "colab": {
          "base_uri": "https://localhost:8080/"
        },
        "id": "4vlNxJehfMtH",
        "outputId": "397984d9-6262-476e-dfb6-363b27a5155e"
      },
      "outputs": [
        {
          "output_type": "stream",
          "name": "stdout",
          "text": [
            "hi\n"
          ]
        }
      ],
      "source": [
        "#위키독스 초보자를 위한 파이썬 300제 \n",
        "print(\"hi\")"
      ]
    },
    {
      "cell_type": "code",
      "source": [
        "print(\"i\\nlove\\t\\tcake\")"
      ],
      "metadata": {
        "colab": {
          "base_uri": "https://localhost:8080/"
        },
        "id": "NU-ycRO4fXoz",
        "outputId": "d313e5dd-ca90-4515-fc26-421d34a00875"
      },
      "execution_count": 3,
      "outputs": [
        {
          "output_type": "stream",
          "name": "stdout",
          "text": [
            "i\n",
            "love\t\tcake\n"
          ]
        }
      ]
    },
    {
      "cell_type": "code",
      "source": [
        "print(\"apple\", \"bear\")"
      ],
      "metadata": {
        "colab": {
          "base_uri": "https://localhost:8080/"
        },
        "id": "yOkD-Pq-f2bY",
        "outputId": "66fe907b-efb8-41ce-de33-f8d2a2b3fdf3"
      },
      "execution_count": 5,
      "outputs": [
        {
          "output_type": "stream",
          "name": "stdout",
          "text": [
            "apple bear\n"
          ]
        }
      ]
    },
    {
      "cell_type": "code",
      "source": [
        "print(\"red\", \"blue\", sep=\";\")"
      ],
      "metadata": {
        "colab": {
          "base_uri": "https://localhost:8080/"
        },
        "id": "aUwPwUU6gEK0",
        "outputId": "84a395cc-e725-4e12-93e9-41a1dcdd2721"
      },
      "execution_count": 6,
      "outputs": [
        {
          "output_type": "stream",
          "name": "stdout",
          "text": [
            "red;blue\n"
          ]
        }
      ]
    },
    {
      "cell_type": "code",
      "source": [
        "print(\"my\", end=\"\"); print(\"car\")"
      ],
      "metadata": {
        "colab": {
          "base_uri": "https://localhost:8080/"
        },
        "id": "94-5A3-SgWKQ",
        "outputId": "07929785-c8c6-4919-e814-099509134f4b"
      },
      "execution_count": 7,
      "outputs": [
        {
          "output_type": "stream",
          "name": "stdout",
          "text": [
            "mycar\n"
          ]
        }
      ]
    },
    {
      "cell_type": "code",
      "source": [
        "print(\"my\"); print(\"home\")"
      ],
      "metadata": {
        "colab": {
          "base_uri": "https://localhost:8080/"
        },
        "id": "hkej6_nogWHA",
        "outputId": "7a7e1108-5912-4684-b0de-605a79106af1"
      },
      "execution_count": 8,
      "outputs": [
        {
          "output_type": "stream",
          "name": "stdout",
          "text": [
            "my\n",
            "home\n"
          ]
        }
      ]
    },
    {
      "cell_type": "code",
      "source": [
        "a = 569\n",
        "print(a, type(a))"
      ],
      "metadata": {
        "colab": {
          "base_uri": "https://localhost:8080/"
        },
        "id": "5ijWr0LxgWEb",
        "outputId": "4be002c6-fe3c-44f6-d9f8-f8901590f97e"
      },
      "execution_count": 9,
      "outputs": [
        {
          "output_type": "stream",
          "name": "stdout",
          "text": [
            "569 <class 'int'>\n"
          ]
        }
      ]
    },
    {
      "cell_type": "code",
      "source": [
        "v = \"you\"\n",
        "s = \"say\"\n",
        "print(v+\"!\", s)"
      ],
      "metadata": {
        "colab": {
          "base_uri": "https://localhost:8080/"
        },
        "id": "uXECi8uBgWB7",
        "outputId": "d9c5344f-3cf4-4ec2-c313-d4954c498b3c"
      },
      "execution_count": 10,
      "outputs": [
        {
          "output_type": "stream",
          "name": "stdout",
          "text": [
            "you! say\n"
          ]
        }
      ]
    },
    {
      "cell_type": "code",
      "source": [
        "xz = int(x)\n",
        "yu = str(y)\n",
        "sd = float(r)\n"
      ],
      "metadata": {
        "id": "7TsIcibMgVtM"
      },
      "execution_count": 12,
      "outputs": []
    },
    {
      "cell_type": "code",
      "source": [
        "l = \"ha- p.p-y\"\n",
        "print(l[3], l[4])\n",
        "print(l[-2:])\n",
        "print(l[::2])\n",
        "print(l[::-1])\n",
        "print(l.replace(\"-\", \" \"))\n",
        "print(l.replace(\"-\", \"\"))\n",
        "#문자열을 리스트로 분리 저장\n",
        "print(l.split(\".\"))\n",
        "print(l.split(\".\")[-1])\n",
        "l.split()"
      ],
      "metadata": {
        "colab": {
          "base_uri": "https://localhost:8080/"
        },
        "id": "s3FMfe6Kh3-M",
        "outputId": "c43751f4-6410-43e4-8adc-6236d80794a3"
      },
      "execution_count": 91,
      "outputs": [
        {
          "output_type": "stream",
          "name": "stdout",
          "text": [
            "  p\n",
            "-y\n",
            "h-ppy\n",
            "y-p.p -ah\n",
            "ha  p.p y\n",
            "ha p.py\n",
            "['ha- p', 'p-y']\n",
            "p-y\n"
          ]
        },
        {
          "output_type": "execute_result",
          "data": {
            "text/plain": [
              "['ha-', 'p.p-y']"
            ]
          },
          "metadata": {},
          "execution_count": 91
        }
      ]
    },
    {
      "cell_type": "code",
      "source": [
        "ticker = \"btc-kr-w\"\n",
        "ticker.split(\"-\")"
      ],
      "metadata": {
        "colab": {
          "base_uri": "https://localhost:8080/"
        },
        "id": "H8qwEJExoGQ2",
        "outputId": "f08dfe5d-237b-47cd-a5f1-371e8f3c2bb8"
      },
      "execution_count": 55,
      "outputs": [
        {
          "output_type": "execute_result",
          "data": {
            "text/plain": [
              "['btc', 'kr', 'w']"
            ]
          },
          "metadata": {},
          "execution_count": 55
        }
      ]
    },
    {
      "cell_type": "code",
      "source": [
        "lang = 'python'\n",
        "lang[0] = 'P'\n",
        "#문자열 수정 불가능\n",
        "print(lang)"
      ],
      "metadata": {
        "colab": {
          "base_uri": "https://localhost:8080/",
          "height": 211
        },
        "id": "C_6Kn6iogr_9",
        "outputId": "3f443b82-cbab-4f10-8194-1774d67a574e"
      },
      "execution_count": 13,
      "outputs": [
        {
          "output_type": "error",
          "ename": "TypeError",
          "evalue": "ignored",
          "traceback": [
            "\u001b[0;31m---------------------------------------------------------------------------\u001b[0m",
            "\u001b[0;31mTypeError\u001b[0m                                 Traceback (most recent call last)",
            "\u001b[0;32m<ipython-input-13-ba8eb7824ab8>\u001b[0m in \u001b[0;36m<module>\u001b[0;34m()\u001b[0m\n\u001b[1;32m      1\u001b[0m \u001b[0mlang\u001b[0m \u001b[0;34m=\u001b[0m \u001b[0;34m'python'\u001b[0m\u001b[0;34m\u001b[0m\u001b[0;34m\u001b[0m\u001b[0m\n\u001b[0;32m----> 2\u001b[0;31m \u001b[0mlang\u001b[0m\u001b[0;34m[\u001b[0m\u001b[0;36m0\u001b[0m\u001b[0;34m]\u001b[0m \u001b[0;34m=\u001b[0m \u001b[0;34m'P'\u001b[0m\u001b[0;34m\u001b[0m\u001b[0;34m\u001b[0m\u001b[0m\n\u001b[0m\u001b[1;32m      3\u001b[0m \u001b[0mprint\u001b[0m\u001b[0;34m(\u001b[0m\u001b[0mlang\u001b[0m\u001b[0;34m)\u001b[0m\u001b[0;34m\u001b[0m\u001b[0;34m\u001b[0m\u001b[0m\n",
            "\u001b[0;31mTypeError\u001b[0m: 'str' object does not support item assignment"
          ]
        }
      ]
    },
    {
      "cell_type": "code",
      "source": [
        "ss = \"ageisaasd\"\n",
        "print(ss.replace(\"a\", \"A\"))\n",
        "ss.replace(\"a\", \"A\")\n",
        "print(ss)\n",
        "#문자열 변경 불가능"
      ],
      "metadata": {
        "colab": {
          "base_uri": "https://localhost:8080/"
        },
        "id": "khCcsLJKiSuU",
        "outputId": "13e0d84f-e667-4f55-aa76-4e110eb645a5"
      },
      "execution_count": 15,
      "outputs": [
        {
          "output_type": "stream",
          "name": "stdout",
          "text": [
            "AgeisAAsd\n",
            "ageisaasd\n"
          ]
        }
      ]
    },
    {
      "cell_type": "code",
      "source": [
        "tt = \"8\"\n",
        "yy = \"0\"\n",
        "print(tt+yy)\n",
        "print((tt + \" \" + yy + \" \") * 3)"
      ],
      "metadata": {
        "colab": {
          "base_uri": "https://localhost:8080/"
        },
        "id": "G9A5l6WUigsu",
        "outputId": "acc4558e-b772-4ba5-abad-06594a8a11bd"
      },
      "execution_count": 19,
      "outputs": [
        {
          "output_type": "stream",
          "name": "stdout",
          "text": [
            "80\n",
            "8 0 8 0 8 0 \n"
          ]
        }
      ]
    },
    {
      "cell_type": "code",
      "source": [
        "print(\"jo\" * 3)"
      ],
      "metadata": {
        "colab": {
          "base_uri": "https://localhost:8080/"
        },
        "id": "rM2-gAs6jECa",
        "outputId": "05dc8791-16bf-4beb-b645-bcb0bec57a57"
      },
      "execution_count": 17,
      "outputs": [
        {
          "output_type": "stream",
          "name": "stdout",
          "text": [
            "jojojo\n"
          ]
        }
      ]
    },
    {
      "cell_type": "code",
      "source": [
        "n1 = \"이\"\n",
        "a1 = 2\n",
        "print(\"름: %s 나: %d\" %(n1, a1))\n",
        "\n",
        "print(\"름: {} 나: {}\".format(n1, a1))\n",
        "\n",
        "print(f\"름: {n1} 나: {a1}\")"
      ],
      "metadata": {
        "colab": {
          "base_uri": "https://localhost:8080/"
        },
        "id": "tzgVvrUcjKpS",
        "outputId": "f248235a-812b-40a8-e238-214305575236"
      },
      "execution_count": 12,
      "outputs": [
        {
          "output_type": "stream",
          "name": "stdout",
          "text": [
            "름: 이 나: 2\n",
            "름: 이 나: 2\n",
            "름: 이 나: 2\n"
          ]
        }
      ]
    },
    {
      "cell_type": "code",
      "source": [
        "dd = \"   g  o A   \"\n",
        "dd.strip()\n",
        "print(dd)\n",
        "print(dd.strip())\n",
        "\n",
        "print(dd.rstrip())\n",
        "\n",
        "dd.upper()\n",
        "print(dd)\n",
        "print(dd.upper())\n",
        "\n",
        "print(dd.lower())\n",
        "\n",
        "ddd = \"uri\"\n",
        "print(ddd.capitalize())\n",
        "\n",
        "fn = \"o456.xlsx\"\n",
        "#fn.endswith(\"xlsx\")\n",
        "\n",
        "#fn.endswith((\"xlsx\", \"xls\"))\n",
        "\n",
        "fn.startswith(\"o4\")\n",
        "\n",
        "dd.split()"
      ],
      "metadata": {
        "colab": {
          "base_uri": "https://localhost:8080/"
        },
        "id": "X2LQj2Ogk38B",
        "outputId": "f0334617-23f1-4fc8-da96-889246fb03e7"
      },
      "execution_count": 60,
      "outputs": [
        {
          "output_type": "stream",
          "name": "stdout",
          "text": [
            "   g  o A   \n",
            "g  o A\n",
            "   g  o A\n",
            "   g  o A   \n",
            "   G  O A   \n",
            "   g  o a   \n",
            "Uri\n"
          ]
        },
        {
          "output_type": "execute_result",
          "data": {
            "text/plain": [
              "['g', 'o', 'A']"
            ]
          },
          "metadata": {},
          "execution_count": 60
        }
      ]
    },
    {
      "cell_type": "code",
      "source": [
        "#리스트 순서o 수정 가능\n",
        "mm = [\"오\", \"징\"]\n",
        "mm.append(\"어\")\n",
        "print(mm)\n",
        "mm.insert(1, \"레\")\n",
        "print(mm)\n",
        "del mm[2]\n",
        "del mm[2]\n",
        "print(mm)\n",
        "nn = [\"fat\", \"cute\"]\n",
        "ss = mm + nn\n",
        "print(ss)\n",
        "nu = [3, 50, 8]\n",
        "print(\"mx: \", max(nu))\n",
        "print(\"min: \", min(nu))\n",
        "print(sum(nu))\n",
        "print(len(nu))\n",
        "print(sum(nu) / len(nu))\n",
        "nu.sort()\n",
        "print(nu)\n",
        "nu2 = [5, 2, 1]\n",
        "print(sorted(nu2))\n",
        "print(ss[1:])\n",
        "print(ss[::2])\n",
        "print(ss[::-1])\n",
        "print(ss[2], ss[3])\n",
        "#리스트를 문자열로 붙\n",
        "print(\"/\".join(ss))\n",
        "print(\"\\n\".join(ss))"
      ],
      "metadata": {
        "colab": {
          "base_uri": "https://localhost:8080/"
        },
        "id": "cqObUANYkSqv",
        "outputId": "de19bc6e-c45a-4913-84e1-3c216b0511f1"
      },
      "execution_count": 96,
      "outputs": [
        {
          "output_type": "stream",
          "name": "stdout",
          "text": [
            "['오', '징', '어']\n",
            "['오', '레', '징', '어']\n",
            "['오', '레']\n",
            "['오', '레', 'fat', 'cute']\n",
            "mx:  50\n",
            "min:  3\n",
            "61\n",
            "3\n",
            "20.333333333333332\n",
            "[3, 8, 50]\n",
            "[1, 2, 5]\n",
            "['레', 'fat', 'cute']\n",
            "['오', 'fat']\n",
            "['cute', 'fat', '레', '오']\n",
            "fat cute\n",
            "오/레/fat/cute\n",
            "오\n",
            "레\n",
            "fat\n",
            "cute\n"
          ]
        }
      ]
    },
    {
      "cell_type": "code",
      "source": [
        "#튜플 순서o 수정 불가능\n",
        "g = ()\n",
        "print(type(g))\n",
        "gg = (\"ra\", \"men\" ,\"good\")\n",
        "#하나의 데이터 저장, 쉼표 입력\n",
        "ff = (2, )\n",
        "#튜플 원소의 값 수정 불가능\n",
        "gg = (\"re\", \"men\")\n",
        "print(gg)\n",
        "#튜플을 리스트로\n",
        "print(list(gg))\n",
        "#리스트를 튜플로\n",
        "gl = [\"g\", \"dra\"]\n",
        "print(tuple(gl))\n",
        "#튜플 언팩킹\n",
        "a, b = gg\n",
        "print(a, b)\n",
        "print(tuple(range(2, 100, 2)))"
      ],
      "metadata": {
        "colab": {
          "base_uri": "https://localhost:8080/"
        },
        "id": "n7SUk31Rq2uK",
        "outputId": "f34be21d-65a4-45d1-cc35-8c4883146675"
      },
      "execution_count": 105,
      "outputs": [
        {
          "output_type": "stream",
          "name": "stdout",
          "text": [
            "<class 'tuple'>\n",
            "('re', 'men')\n",
            "['re', 'men']\n",
            "('g', 'dra')\n",
            "re men\n",
            "(2, 4, 6, 8, 10, 12, 14, 16, 18, 20, 22, 24, 26, 28, 30, 32, 34, 36, 38, 40, 42, 44, 46, 48, 50, 52, 54, 56, 58, 60, 62, 64, 66, 68, 70, 72, 74, 76, 78, 80, 82, 84, 86, 88, 90, 92, 94, 96, 98)\n"
          ]
        }
      ]
    },
    {
      "cell_type": "code",
      "source": [
        "#딕셔너리 순서x key 데이터의 레이블 지정, value\n",
        "#star expression 변수의 개수 달라도 데이터 언패킹\n",
        "a, b, *c = (3, 7, 0, 9, 2, 3)\n",
        "print(a)\n",
        "print(b)\n",
        "print(c)\n",
        "s = [6, 8, 9, 4, 5, 8]\n",
        "_, *v, _ = s\n",
        "print(v) \n",
        "i = {\"한\": 7, \"미\": 2}\n",
        "print(i)\n",
        "i[\"프\"] = 3\n",
        "print(i)\n",
        "print(\"한 가: \", i[\"한\"])\n",
        "i[\"미\"] = 100\n",
        "print(i)\n",
        "del i[\"프\"]\n",
        "print(i)\n",
        "print(sum(i.values()))\n",
        "#키로 인덱싱\n",
        "ne = {\"영\": 4, \"브\": 8}\n",
        "i.update(ne)\n",
        "print(i)"
      ],
      "metadata": {
        "colab": {
          "base_uri": "https://localhost:8080/"
        },
        "id": "z_9F6dy4xsnC",
        "outputId": "49c844f3-6e9a-40ba-a33e-821a6919cf2b"
      },
      "execution_count": 126,
      "outputs": [
        {
          "output_type": "stream",
          "name": "stdout",
          "text": [
            "3\n",
            "7\n",
            "[0, 9, 2, 3]\n",
            "[8, 9, 4, 5]\n",
            "{'한': 7, '미': 2}\n",
            "{'한': 7, '미': 2, '프': 3}\n",
            "한 가:  7\n",
            "{'한': 7, '미': 100, '프': 3}\n",
            "{'한': 7, '미': 100}\n",
            "107\n",
            "{'한': 7, '미': 100, '영': 4, '브': 8}\n"
          ]
        }
      ]
    },
    {
      "cell_type": "code",
      "source": [
        "ii = {\"고\": [1, 200],\n",
        "      \"구\": [3, 100]}\n",
        "print(ii)\n",
        "print(ii[\"고\"][0], \"개\")\n",
        "ii[\"마\"] = [0, 19] \n",
        "print(ii)\n",
        "#key값 리스트\n",
        "print(ii.keys())\n",
        "#values 값 리스트\n",
        "ii.values()"
      ],
      "metadata": {
        "colab": {
          "base_uri": "https://localhost:8080/"
        },
        "id": "NewaeV3e1CBM",
        "outputId": "1253a0ad-3751-40a5-fcff-10c999825173"
      },
      "execution_count": 123,
      "outputs": [
        {
          "output_type": "stream",
          "name": "stdout",
          "text": [
            "{'고': [1, 200], '구': [3, 100]}\n",
            "1 개\n",
            "{'고': [1, 200], '구': [3, 100], '마': [0, 19]}\n",
            "dict_keys(['고', '구', '마'])\n"
          ]
        },
        {
          "output_type": "execute_result",
          "data": {
            "text/plain": [
              "dict_values([[1, 200], [3, 100], [0, 19]])"
            ]
          },
          "metadata": {},
          "execution_count": 123
        }
      ]
    },
    {
      "cell_type": "code",
      "source": [
        "#두 개의 튜플을 하나의 딕셔너리\n",
        "keys = (\"아\", \"뵤\")\n",
        "v = (0, 23)\n",
        "r = dict(zip(keys, v))\n",
        "print(r)"
      ],
      "metadata": {
        "colab": {
          "base_uri": "https://localhost:8080/"
        },
        "id": "u4KtjNcnpLHr",
        "outputId": "c7f73b14-a8ef-47d8-d406-de3a3ad46222"
      },
      "execution_count": 129,
      "outputs": [
        {
          "output_type": "stream",
          "name": "stdout",
          "text": [
            "{'아': 0, '뵤': 23}\n"
          ]
        }
      ]
    },
    {
      "cell_type": "code",
      "source": [
        "#두 개의 리스트를 딕셔너리\n",
        "d = [\"4/3\", \"10/9\"]\n",
        "nm = [3, 8]\n",
        "x = dict(zip(d, nm))\n",
        "print(x)"
      ],
      "metadata": {
        "colab": {
          "base_uri": "https://localhost:8080/"
        },
        "id": "GxYm3vuIkOXy",
        "outputId": "c8b7b929-58e4-4976-ea49-0764f320ab0c"
      },
      "execution_count": 130,
      "outputs": [
        {
          "output_type": "stream",
          "name": "stdout",
          "text": [
            "{'4/3': 3, '10/9': 8}\n"
          ]
        }
      ]
    },
    {
      "cell_type": "code",
      "source": [
        "#bool 타입\n",
        "print(1 < 3 < 4)\n",
        "print ((3 == 3) and (5 != 3))\n",
        "print(3 >= 7)\n"
      ],
      "metadata": {
        "colab": {
          "base_uri": "https://localhost:8080/"
        },
        "id": "7rp6GVD14NoD",
        "outputId": "9a9a4c5a-51b9-44c4-ee12-e2d7d704660d"
      },
      "execution_count": 132,
      "outputs": [
        {
          "output_type": "stream",
          "name": "stdout",
          "text": [
            "True\n",
            "True\n",
            "False\n"
          ]
        }
      ]
    },
    {
      "cell_type": "code",
      "source": [
        "u = input(\"입:\")\n",
        "print(4 + int(u))"
      ],
      "metadata": {
        "colab": {
          "base_uri": "https://localhost:8080/"
        },
        "id": "JiyMS2gZ4Nk2",
        "outputId": "56d97cf5-e9bb-4314-9333-10b08f48de96"
      },
      "execution_count": 134,
      "outputs": [
        {
          "output_type": "stream",
          "name": "stdout",
          "text": [
            "입:5\n",
            "9\n"
          ]
        }
      ]
    },
    {
      "cell_type": "code",
      "source": [
        "s = input(\"\")\n",
        "v = int(s)\n",
        "if v % 2 == 0:\n",
        "  print(\"짝\")\n",
        "elif v == 3:\n",
        "  print(33)\n",
        "else:\n",
        "  print(\"홀\")"
      ],
      "metadata": {
        "colab": {
          "base_uri": "https://localhost:8080/"
        },
        "id": "wMvRPJBs4NhK",
        "outputId": "a782382e-2a01-457d-b8c3-7efc0cb5758f"
      },
      "execution_count": 137,
      "outputs": [
        {
          "output_type": "stream",
          "name": "stdout",
          "text": [
            "3\n",
            "33\n"
          ]
        }
      ]
    },
    {
      "cell_type": "code",
      "source": [
        "f = [\"a\", \"c\"]\n",
        "u = input(\"like?\")\n",
        "if u in f:\n",
        "  print(\"t\")\n",
        "else:\n",
        "  print(\"f\")"
      ],
      "metadata": {
        "colab": {
          "base_uri": "https://localhost:8080/"
        },
        "id": "AxI26iCn4Nep",
        "outputId": "29a358ac-d9c5-4fba-96d6-307c7c96c20d"
      },
      "execution_count": 1,
      "outputs": [
        {
          "output_type": "stream",
          "name": "stdout",
          "text": [
            "like?c\n",
            "t\n"
          ]
        }
      ]
    },
    {
      "cell_type": "code",
      "source": [
        "#입력 값이 키값에 포함\n",
        "f = {\"a\": \"5\", \"v\": 8}\n",
        "u = input(\"w: \")\n",
        "if u in f:\n",
        "  print(\"t\")\n",
        "#입력 값이 딕셔너리 값 value에 포함\n",
        "elif u in f.values():\n",
        "  print(\"tt\")\n",
        "  #.isupper()\n",
        "elif u.islower():\n",
        "  print(u.upper())\n",
        "elif 100 <= int(u) <= 600:\n",
        "  print(8)\n",
        "else:\n",
        "  print(\"f\")"
      ],
      "metadata": {
        "colab": {
          "base_uri": "https://localhost:8080/"
        },
        "id": "w2BSB-Kn4NcQ",
        "outputId": "35215c7b-6cc3-4fea-b921-543180eff09c"
      },
      "execution_count": 9,
      "outputs": [
        {
          "output_type": "stream",
          "name": "stdout",
          "text": [
            "w: 300\n",
            "8\n"
          ]
        }
      ]
    },
    {
      "cell_type": "code",
      "source": [
        "if 1 <= s <= 4:\n",
        "  print"
      ],
      "metadata": {
        "id": "s0KI3xxG6gsC"
      },
      "execution_count": null,
      "outputs": []
    },
    {
      "cell_type": "code",
      "source": [
        "d = {\"고\": 7,\n",
        "     \"등\": 8}\n",
        "u = input(\"\")\n",
        "n, c = u.split()\n",
        "print(float(n) * d[c], \"원\")"
      ],
      "metadata": {
        "colab": {
          "base_uri": "https://localhost:8080/"
        },
        "id": "jHSZfcxO4NZr",
        "outputId": "073b84da-2c08-4fa4-d6e7-cdf42f532f68"
      },
      "execution_count": 11,
      "outputs": [
        {
          "output_type": "stream",
          "name": "stdout",
          "text": [
            "9 등\n",
            "72.0 원\n"
          ]
        }
      ]
    },
    {
      "cell_type": "code",
      "source": [
        "#and or not\n",
        "if n >= x and n>= y:\n",
        "if (a < 4) or (a % 3 == 0):\n",
        "if not s.isupper():"
      ],
      "metadata": {
        "id": "_bDUnbbw4NSX"
      },
      "execution_count": null,
      "outputs": []
    },
    {
      "cell_type": "code",
      "source": [
        "#딕셔너리로 가져오는\n",
        "import requests\n",
        "b = requests.get(\"https://api.bithumb.com/public/ticker/\").json()['data']\n",
        "print(b[\"min_price\"])"
      ],
      "metadata": {
        "colab": {
          "base_uri": "https://localhost:8080/"
        },
        "id": "DYMFP1bl8beT",
        "outputId": "b4d7a2b1-d7d4-4807-ff9b-730b0f5ff773"
      },
      "execution_count": 14,
      "outputs": [
        {
          "output_type": "stream",
          "name": "stdout",
          "text": [
            "47086000\n"
          ]
        }
      ]
    },
    {
      "cell_type": "code",
      "source": [
        "#for 횟수 정/적 while 크/무한\n",
        "a = [\"ㅎ\", \"ㅊ\"]\n",
        "for s in a:\n",
        "  print(s)\n",
        "for s in [1, 3, 4]:\n",
        "  print(\"x\")"
      ],
      "metadata": {
        "colab": {
          "base_uri": "https://localhost:8080/"
        },
        "id": "FdXj6oR6-6jJ",
        "outputId": "e0db21ae-8e0d-41bf-be5a-24b4442bb051"
      },
      "execution_count": 18,
      "outputs": [
        {
          "output_type": "stream",
          "name": "stdout",
          "text": [
            "ㅎ\n",
            "ㅊ\n",
            "x\n",
            "x\n",
            "x\n"
          ]
        }
      ]
    },
    {
      "cell_type": "code",
      "source": [
        "#첫 번째 데이터를 바인딩 들여쓰기 코드 실행\n",
        "print(\"s: \" + \"os\")"
      ],
      "metadata": {
        "colab": {
          "base_uri": "https://localhost:8080/"
        },
        "id": "QAHwRfK1__ed",
        "outputId": "a8f9c3fe-23f3-49a3-cc20-dda68ee5f169"
      },
      "execution_count": 19,
      "outputs": [
        {
          "output_type": "stream",
          "name": "stdout",
          "text": [
            "s: os\n"
          ]
        }
      ]
    },
    {
      "cell_type": "code",
      "source": [
        "list(range(3))\n",
        "#0부터 까지 숫자 리스트\n",
        "for i in range(8):"
      ],
      "metadata": {
        "id": "r_F1YNR_CC9b"
      },
      "execution_count": null,
      "outputs": []
    },
    {
      "cell_type": "code",
      "source": [
        "print(list(range(0, 10, 2)))"
      ],
      "metadata": {
        "colab": {
          "base_uri": "https://localhost:8080/"
        },
        "id": "I7rwd0rRFGre",
        "outputId": "12609da0-ccc1-426c-b070-da40317a0a29"
      },
      "execution_count": 20,
      "outputs": [
        {
          "output_type": "stream",
          "name": "stdout",
          "text": [
            "[0, 2, 4, 6, 8]\n"
          ]
        }
      ]
    },
    {
      "cell_type": "code",
      "source": [
        "h += 1"
      ],
      "metadata": {
        "id": "ELch-HkkFGoR"
      },
      "execution_count": null,
      "outputs": []
    },
    {
      "cell_type": "code",
      "source": [
        "l = [4, 8, 10]\n",
        "for i, d in enumerate(l):\n",
        "  print(i, d)"
      ],
      "metadata": {
        "colab": {
          "base_uri": "https://localhost:8080/"
        },
        "id": "GwE3Y8CdFGlT",
        "outputId": "34dd79ea-fc97-41eb-d5da-81f69288f19e"
      },
      "execution_count": 21,
      "outputs": [
        {
          "output_type": "stream",
          "name": "stdout",
          "text": [
            "0 4\n",
            "1 8\n",
            "2 10\n"
          ]
        }
      ]
    },
    {
      "cell_type": "code",
      "source": [
        "abs()\n",
        "v = []\n",
        "v.append(2)"
      ],
      "metadata": {
        "id": "oUfE2gAXFGgR"
      },
      "execution_count": null,
      "outputs": []
    },
    {
      "cell_type": "code",
      "source": [
        "#행을 하나의 리스트 이차원 리스트\n",
        "a = [[\"1\", \"2\"], [\"3\", \"4\"]]\n",
        "for row in a:\n",
        "  for col in row:\n",
        "    print(col, \"호\")\n",
        "for row in a[::-1]:\n",
        "  for col in row:\n",
        "    print(col, \"호\")\n",
        "for row in a[::-1]:\n",
        "  for col in row[::-1]:\n",
        "    print(col)\n"
      ],
      "metadata": {
        "colab": {
          "base_uri": "https://localhost:8080/"
        },
        "id": "AtMsmXKNJmwI",
        "outputId": "4804754b-9553-4e38-97c5-1d8b690e6d07"
      },
      "execution_count": 25,
      "outputs": [
        {
          "output_type": "stream",
          "name": "stdout",
          "text": [
            "1 호\n",
            "2 호\n",
            "3 호\n",
            "4 호\n",
            "3 호\n",
            "4 호\n",
            "1 호\n",
            "2 호\n",
            "4\n",
            "3\n",
            "2\n",
            "1\n"
          ]
        }
      ]
    },
    {
      "cell_type": "code",
      "source": [
        "data = [\n",
        "        [4, 8 ,9],\n",
        "        [5, 9 ,2],\n",
        "        [8, 0, 7]\n",
        "]\n",
        "r = []\n",
        "for l in data:\n",
        "  s = []\n",
        "  for column in l:\n",
        "    s.append(column)\n",
        "  r.append(s)\n",
        "print(r)\n",
        "for l in data[1:]:\n",
        "  print(l[2])"
      ],
      "metadata": {
        "colab": {
          "base_uri": "https://localhost:8080/"
        },
        "id": "H54r7V8tJmss",
        "outputId": "8d231817-58f9-4b4b-a359-c13cfa9e526d"
      },
      "execution_count": 31,
      "outputs": [
        {
          "output_type": "stream",
          "name": "stdout",
          "text": [
            "[[4, 8, 9], [5, 9, 2], [8, 0, 7]]\n",
            "2\n",
            "7\n"
          ]
        }
      ]
    },
    {
      "cell_type": "code",
      "source": [
        "#변수 어떤 값 바인딩 함수 어떤 코드 바인딩\n",
        "def s():\n",
        "#함수를 호출할 때 하나의 파라미터를 입력\n",
        "def h(a, b):\n",
        "h(b=3, a=4)\n",
        "#함수 내부에서 사용한 변수 함수 밖에서 접근 불가능\n",
        "#함수 내부에서 계산한 값 전달 return "
      ],
      "metadata": {
        "id": "9EWDphRjJmqW"
      },
      "execution_count": null,
      "outputs": []
    },
    {
      "cell_type": "code",
      "source": [
        "#문자열을 리스트로\n",
        "list(\"hop\")"
      ],
      "metadata": {
        "colab": {
          "base_uri": "https://localhost:8080/"
        },
        "id": "qK3k5YNgJmnu",
        "outputId": "8e598cc0-fb69-4cdd-fd05-434d9119f669"
      },
      "execution_count": 32,
      "outputs": [
        {
          "output_type": "execute_result",
          "data": {
            "text/plain": [
              "['h', 'o', 'p']"
            ]
          },
          "metadata": {},
          "execution_count": 32
        }
      ]
    },
    {
      "cell_type": "code",
      "source": [
        "#파이썬 모듈 파이썬 파일\n",
        "import datetime\n",
        "now = datetime.datetime.now()\n",
        "print(now, type(now))\n",
        "for day in range(5, 0, -1):\n",
        "  delta = datetime.timedelta(days=day)\n",
        "  date = now - delta\n",
        "  print(date)\n",
        "print(now.strftime(\"%H:%M:%S\"))\n",
        "d = \"2022-03-02\"\n",
        "r = datetime.datetime.strptime(d, \"%Y-%m-%d\")\n",
        "print(r, type(r))"
      ],
      "metadata": {
        "colab": {
          "base_uri": "https://localhost:8080/"
        },
        "id": "AXD2J5bgNyGM",
        "outputId": "68bd71d1-8c7b-4814-eaa7-efe0ee784334"
      },
      "execution_count": 7,
      "outputs": [
        {
          "output_type": "stream",
          "name": "stdout",
          "text": [
            "2022-02-22 01:31:44.683794 <class 'datetime.datetime'>\n",
            "2022-02-17 01:31:44.683794\n",
            "2022-02-18 01:31:44.683794\n",
            "2022-02-19 01:31:44.683794\n",
            "2022-02-20 01:31:44.683794\n",
            "2022-02-21 01:31:44.683794\n",
            "01:31:44\n",
            "2022-03-02 00:00:00 <class 'datetime.datetime'>\n"
          ]
        }
      ]
    },
    {
      "cell_type": "code",
      "source": [
        "import time\n",
        "import datetime\n",
        "while True:\n",
        "  now = datetime.datetime.now()\n",
        "  print(now)\n",
        "  time.sleep(1)"
      ],
      "metadata": {
        "colab": {
          "base_uri": "https://localhost:8080/",
          "height": 339
        },
        "id": "mXEImsXlJmlY",
        "outputId": "42615808-1028-460e-b77b-3fd41f2bb75e"
      },
      "execution_count": 8,
      "outputs": [
        {
          "output_type": "stream",
          "name": "stdout",
          "text": [
            "2022-02-22 01:33:23.855263\n",
            "2022-02-22 01:33:24.857194\n",
            "2022-02-22 01:33:25.859163\n",
            "2022-02-22 01:33:26.860995\n",
            "2022-02-22 01:33:27.862624\n",
            "2022-02-22 01:33:28.863886\n",
            "2022-02-22 01:33:29.864345\n"
          ]
        },
        {
          "output_type": "error",
          "ename": "KeyboardInterrupt",
          "evalue": "ignored",
          "traceback": [
            "\u001b[0;31m---------------------------------------------------------------------------\u001b[0m",
            "\u001b[0;31mKeyboardInterrupt\u001b[0m                         Traceback (most recent call last)",
            "\u001b[0;32m<ipython-input-8-71e3088ac324>\u001b[0m in \u001b[0;36m<module>\u001b[0;34m()\u001b[0m\n\u001b[1;32m      4\u001b[0m   \u001b[0mnow\u001b[0m \u001b[0;34m=\u001b[0m \u001b[0mdatetime\u001b[0m\u001b[0;34m.\u001b[0m\u001b[0mdatetime\u001b[0m\u001b[0;34m.\u001b[0m\u001b[0mnow\u001b[0m\u001b[0;34m(\u001b[0m\u001b[0;34m)\u001b[0m\u001b[0;34m\u001b[0m\u001b[0;34m\u001b[0m\u001b[0m\n\u001b[1;32m      5\u001b[0m   \u001b[0mprint\u001b[0m\u001b[0;34m(\u001b[0m\u001b[0mnow\u001b[0m\u001b[0;34m)\u001b[0m\u001b[0;34m\u001b[0m\u001b[0;34m\u001b[0m\u001b[0m\n\u001b[0;32m----> 6\u001b[0;31m   \u001b[0mtime\u001b[0m\u001b[0;34m.\u001b[0m\u001b[0msleep\u001b[0m\u001b[0;34m(\u001b[0m\u001b[0;36m1\u001b[0m\u001b[0;34m)\u001b[0m\u001b[0;34m\u001b[0m\u001b[0;34m\u001b[0m\u001b[0m\n\u001b[0m",
            "\u001b[0;31mKeyboardInterrupt\u001b[0m: "
          ]
        }
      ]
    },
    {
      "cell_type": "code",
      "source": [
        "import os\n",
        "r = os.getcwd()\n",
        "print(r, type(r))\n",
        "os.rename(\"C:/Users/juzero/Desktop/b.txt\", \"C:/Users/juzero/Desktop/a.txt\")"
      ],
      "metadata": {
        "colab": {
          "base_uri": "https://localhost:8080/",
          "height": 248
        },
        "id": "zjj5es0tJmim",
        "outputId": "f5cedfab-456b-445d-fe8a-1cb93a1e617b"
      },
      "execution_count": 10,
      "outputs": [
        {
          "output_type": "stream",
          "name": "stdout",
          "text": [
            "/content <class 'str'>\n"
          ]
        },
        {
          "output_type": "error",
          "ename": "FileNotFoundError",
          "evalue": "ignored",
          "traceback": [
            "\u001b[0;31m---------------------------------------------------------------------------\u001b[0m",
            "\u001b[0;31mFileNotFoundError\u001b[0m                         Traceback (most recent call last)",
            "\u001b[0;32m<ipython-input-10-dfdcd71a2df8>\u001b[0m in \u001b[0;36m<module>\u001b[0;34m()\u001b[0m\n\u001b[1;32m      2\u001b[0m \u001b[0mr\u001b[0m \u001b[0;34m=\u001b[0m \u001b[0mos\u001b[0m\u001b[0;34m.\u001b[0m\u001b[0mgetcwd\u001b[0m\u001b[0;34m(\u001b[0m\u001b[0;34m)\u001b[0m\u001b[0;34m\u001b[0m\u001b[0;34m\u001b[0m\u001b[0m\n\u001b[1;32m      3\u001b[0m \u001b[0mprint\u001b[0m\u001b[0;34m(\u001b[0m\u001b[0mr\u001b[0m\u001b[0;34m,\u001b[0m \u001b[0mtype\u001b[0m\u001b[0;34m(\u001b[0m\u001b[0mr\u001b[0m\u001b[0;34m)\u001b[0m\u001b[0;34m)\u001b[0m\u001b[0;34m\u001b[0m\u001b[0;34m\u001b[0m\u001b[0m\n\u001b[0;32m----> 4\u001b[0;31m \u001b[0mos\u001b[0m\u001b[0;34m.\u001b[0m\u001b[0mrename\u001b[0m\u001b[0;34m(\u001b[0m\u001b[0;34m\"C:/Users/juzero/Desktop/b.txt\"\u001b[0m\u001b[0;34m,\u001b[0m \u001b[0;34m\"C:/Users/juzero/Desktop/a.txt\"\u001b[0m\u001b[0;34m)\u001b[0m\u001b[0;34m\u001b[0m\u001b[0;34m\u001b[0m\u001b[0m\n\u001b[0m",
            "\u001b[0;31mFileNotFoundError\u001b[0m: [Errno 2] No such file or directory: 'C:/Users/juzero/Desktop/b.txt' -> 'C:/Users/juzero/Desktop/a.txt'"
          ]
        }
      ]
    },
    {
      "cell_type": "code",
      "source": [
        "import numpy\n",
        "for i in numpy.arange(0, 5, 0.1):\n",
        "  print(i)"
      ],
      "metadata": {
        "colab": {
          "base_uri": "https://localhost:8080/"
        },
        "id": "ltfjImoUEOwe",
        "outputId": "cf0fa6b1-e8f8-45a0-9dab-40b03cefcadc"
      },
      "execution_count": 12,
      "outputs": [
        {
          "output_type": "stream",
          "name": "stdout",
          "text": [
            "0.0\n",
            "0.1\n",
            "0.2\n",
            "0.30000000000000004\n",
            "0.4\n",
            "0.5\n",
            "0.6000000000000001\n",
            "0.7000000000000001\n",
            "0.8\n",
            "0.9\n",
            "1.0\n",
            "1.1\n",
            "1.2000000000000002\n",
            "1.3\n",
            "1.4000000000000001\n",
            "1.5\n",
            "1.6\n",
            "1.7000000000000002\n",
            "1.8\n",
            "1.9000000000000001\n",
            "2.0\n",
            "2.1\n",
            "2.2\n",
            "2.3000000000000003\n",
            "2.4000000000000004\n",
            "2.5\n",
            "2.6\n",
            "2.7\n",
            "2.8000000000000003\n",
            "2.9000000000000004\n",
            "3.0\n",
            "3.1\n",
            "3.2\n",
            "3.3000000000000003\n",
            "3.4000000000000004\n",
            "3.5\n",
            "3.6\n",
            "3.7\n",
            "3.8000000000000003\n",
            "3.9000000000000004\n",
            "4.0\n",
            "4.1000000000000005\n",
            "4.2\n",
            "4.3\n",
            "4.4\n",
            "4.5\n",
            "4.6000000000000005\n",
            "4.7\n",
            "4.800000000000001\n",
            "4.9\n"
          ]
        }
      ]
    },
    {
      "cell_type": "code",
      "source": [
        "#파이썬 클래스 타입을 만들어내는 도구 int, float, str\n",
        "#클래스 정의 클래스의 인스턴스 생성 클래스에 을 받는 생성자 추가 \n",
        "#인스턴스 변수에 접근하여 값을 출력\n",
        "#을 받는 메소드 추가\n",
        "#를 출력하는 소멸자 추가\n",
        "class H:\n",
        "  def __init__(self, n, a, s):\n",
        "    self.n = n\n",
        "    self.a = a\n",
        "    self.s = s\n",
        "  def __del__(self):\n",
        "    print(\"밀\")\n",
        "    \n",
        "  def w(self):\n",
        "    print(\"름: {} 나: {} 성: {}\".format(self.n, self.a, self.s))\n",
        "  def se(self, n, a, s):\n",
        "    self.n = n\n",
        "    self.a = a\n",
        "    self.s = s\n",
        "v = H(\"이\", 3, \"여\")\n",
        "print(v.n, v.a)\n",
        "v.w()\n",
        "b = H(\"몰\", \"몰\", \"몰\")\n",
        "b.w()\n",
        "b.se(\"차\", 4, \"여\")\n",
        "b.w()\n",
        "del(b)"
      ],
      "metadata": {
        "colab": {
          "base_uri": "https://localhost:8080/"
        },
        "id": "izKC-LnAFCRc",
        "outputId": "e3351d42-41bb-4dcb-fc0e-7a56a48944c9"
      },
      "execution_count": 18,
      "outputs": [
        {
          "output_type": "stream",
          "name": "stdout",
          "text": [
            "이 3\n",
            "름: 이 나: 3 성: 여\n",
            "름: 몰 나: 몰 성: 몰\n",
            "름: 차 나: 4 성: 여\n",
            "밀\n"
          ]
        }
      ]
    },
    {
      "cell_type": "code",
      "source": [
        "class OMG :\n",
        "    def print(self) :\n",
        "        print(\"Oh my god\")\n",
        "\n",
        "\n",
        "mystock = OMG()\n",
        "mystock.print()     "
      ],
      "metadata": {
        "colab": {
          "base_uri": "https://localhost:8080/"
        },
        "id": "455LKIU0FCLV",
        "outputId": "09c8e7de-04c4-47ac-84bb-a70f31e3df8c"
      },
      "execution_count": 20,
      "outputs": [
        {
          "output_type": "stream",
          "name": "stdout",
          "text": [
            "Oh my god\n"
          ]
        }
      ]
    },
    {
      "cell_type": "code",
      "source": [
        "#값을 변경할때 사용하는 set 메서드\n",
        "#클래스의 객체를 바인딩\n",
        "#클래스 변수\n",
        "import random\n",
        "class S:\n",
        "  t = 0\n",
        "  def __init__(self, n, c, r):\n",
        "    self.dt = 0\n",
        "    self.dl = []\n",
        "    self.n = n\n",
        "    self.c = c\n",
        "    self.r = r\n",
        "    self.co = \"한\"\n",
        "    u = random.randint(0, 99)\n",
        "    u = str(u).zfill(2)\n",
        "    self.uu = u + \"-\"\n",
        "    S.t += 1\n",
        "  \n",
        "  def sn(self, n):\n",
        "    self.n = n\n",
        "  def sc(self, c):\n",
        "    self.c = c \n",
        "  def gc(self):\n",
        "    return self.c\n",
        "  def gn(self):\n",
        "    return self.n\n",
        "  #데코레이터\n",
        "  #self 인스턴스 메소드\n",
        "  @classmethod\n",
        "  def gt(cls):\n",
        "    print(cls.t)\n",
        "  def d(self, am):\n",
        "    self.r += am\n",
        "    self.dt += 1\n",
        "    self.dl.append(am)\n",
        "  def p(self):\n",
        "    print(self.n, self.r, self.c, self.co, self.uu)\n",
        "  def dh(self):\n",
        "    for aa in self.dl:\n",
        "      print(aa) \n",
        "삼 = S(\"삼\", \"3\", 4)\n",
        "삼.p()\n",
        "삼.d(100)\n",
        "삼.d(1000)\n",
        "삼.dh()\n",
        "print(삼.r)\n",
        "print(삼.co, 삼.uu)\n",
        "print(삼.c)\n",
        "print(S.t)\n",
        "m = S(None, None, 9)\n",
        "m.sn(\"네\")\n",
        "m.sc(\"8\")\n",
        "삼.gt()\n",
        "m.gt()\n",
        "print(S.t)\n",
        "print(m.n, m.c)\n",
        "print(삼.gc(), 삼.gn())\n",
        "삼.sc(\"5\")\n",
        "print(삼.c)\n",
        "al = []\n",
        "al.append(삼)\n",
        "al.append(m)\n",
        "for o in al:\n",
        "  if o.r > 100:\n",
        "    o.p()\n",
        "\n",
        "print(al)\n",
        "for i in al:\n",
        "  print(i.c, i.n)"
      ],
      "metadata": {
        "colab": {
          "base_uri": "https://localhost:8080/"
        },
        "id": "8IBwZo78Jzo3",
        "outputId": "967c2a3b-1885-446f-e648-1412bac425c3"
      },
      "execution_count": 44,
      "outputs": [
        {
          "output_type": "stream",
          "name": "stdout",
          "text": [
            "삼 4 3 한 87-\n",
            "100\n",
            "1000\n",
            "1104\n",
            "한 87-\n",
            "3\n",
            "1\n",
            "2\n",
            "2\n",
            "2\n",
            "네 8\n",
            "3 삼\n",
            "5\n",
            "삼 1104 5 한 87-\n",
            "[<__main__.S object at 0x7f37734bd390>, <__main__.S object at 0x7f3773453890>]\n",
            "5 삼\n",
            "8 네\n"
          ]
        }
      ]
    },
    {
      "cell_type": "code",
      "source": [
        "#클래스 정의 클래스 상속\n",
        "class 차:\n",
        "  def __init__(self, 바, 가):\n",
        "    self.바 = 바\n",
        "    self.가 = 가\n",
        "class 자(차):\n",
        "  def __init__(self, 바, 가):\n",
        "    self.바 = 바\n",
        "    self.가 = 가\n",
        "b = 자(2, 10)\n",
        "\n"
      ],
      "metadata": {
        "id": "njZD6z87WJzb"
      },
      "execution_count": null,
      "outputs": []
    },
    {
      "cell_type": "code",
      "source": [
        "class 차:\n",
        "  def __init__(self, 바, 가):\n",
        "    self.바 = 바\n",
        "    self.가 = 가\n",
        "class 자전(차):\n",
        "  def __init__(self, 바, 가, 회):\n",
        "    super().__init__(바, 가)\n",
        "    self.회 = 회\n",
        "b = 자(2, 10, \"삼\")"
      ],
      "metadata": {
        "id": "iuDDyLdkWJvs"
      },
      "execution_count": null,
      "outputs": []
    },
    {
      "cell_type": "code",
      "source": [
        "class 차:\n",
        "  def __init__(self, 바, 가):\n",
        "    self.바 = 바\n",
        "    self.가 = 가\n",
        "class 자동(차):\n",
        "  def __init__(self, 바, 가):\n",
        "    super().__init__(바, 가)\n",
        "  def 정(self):\n",
        "    print(self.바)\n",
        "c = 자(4, 79)\n",
        "c.정()"
      ],
      "metadata": {
        "colab": {
          "base_uri": "https://localhost:8080/"
        },
        "id": "s06VAMHhWJs9",
        "outputId": "0b3385bc-a5bb-4114-f6cf-820c62cddc17"
      },
      "execution_count": 48,
      "outputs": [
        {
          "output_type": "stream",
          "name": "stdout",
          "text": [
            "4\n"
          ]
        }
      ]
    },
    {
      "cell_type": "code",
      "source": [
        "class 차:\n",
        "  def __init__(self, 바, 가):\n",
        "    self.바 = 바\n",
        "    self.가 = 가\n",
        "  def 정(self):\n",
        "    print(self.가)\n",
        "class 자동(차):\n",
        "  def __init__(self, 바, 가):\n",
        "    super().__init__(바, 가)\n",
        "class 자전(차):\n",
        "  def __init__(self, 바, 가, 회):\n",
        "    super().__init__(바, 가)\n",
        "    self.회 = 회\n",
        "  def 정(self):\n",
        "    super().정()\n",
        "    print(self.회)\n",
        "b = 자전(2, 50, \"삼\")\n",
        "b.정()\n",
        "  "
      ],
      "metadata": {
        "colab": {
          "base_uri": "https://localhost:8080/"
        },
        "id": "05Piv8k9WJqT",
        "outputId": "6aac989d-099a-47df-cad5-b220f2bbafd3"
      },
      "execution_count": 52,
      "outputs": [
        {
          "output_type": "stream",
          "name": "stdout",
          "text": [
            "50\n",
            "삼\n"
          ]
        }
      ]
    },
    {
      "cell_type": "code",
      "source": [
        "#메서드 오버라이딩\n",
        "class 부:\n",
        "  def 호(self):\n",
        "    print(\"부호\")\n",
        "class 자(부):\n",
        "  def 호(self):\n",
        "    print(\"자호\")\n",
        "나 = 자()\n",
        "나.호()\n"
      ],
      "metadata": {
        "colab": {
          "base_uri": "https://localhost:8080/"
        },
        "id": "GPB9gLhMWJM_",
        "outputId": "679906b7-4f32-4392-c522-4a6a11c63652"
      },
      "execution_count": 53,
      "outputs": [
        {
          "output_type": "stream",
          "name": "stdout",
          "text": [
            "자호\n"
          ]
        }
      ]
    },
    {
      "cell_type": "code",
      "source": [
        "class 부:\n",
        "  def __init__(self):\n",
        "    print(\"부생\")\n",
        "class 자(부):\n",
        "  def __init__(self):\n",
        "    print(\"자생\")\n",
        "나 = 자()"
      ],
      "metadata": {
        "colab": {
          "base_uri": "https://localhost:8080/"
        },
        "id": "MrYHx1ZJbZC-",
        "outputId": "5bba7728-bc44-41ca-b9b2-70893670df30"
      },
      "execution_count": 54,
      "outputs": [
        {
          "output_type": "stream",
          "name": "stdout",
          "text": [
            "자생\n"
          ]
        }
      ]
    },
    {
      "cell_type": "code",
      "source": [
        "#부모클래스 생성자 호출\n",
        "class 부:\n",
        "  def __init__(self):\n",
        "    print(\"부생\")\n",
        "class 자(부):\n",
        "  def __init__(self):\n",
        "    print(\"자생\")\n",
        "    super().__init__()\n",
        "나 = 자()\n",
        "  "
      ],
      "metadata": {
        "colab": {
          "base_uri": "https://localhost:8080/"
        },
        "id": "FQ18rWMncA-l",
        "outputId": "d5fa8dc3-7d9a-4d83-c664-9cfc544dad78"
      },
      "execution_count": 55,
      "outputs": [
        {
          "output_type": "stream",
          "name": "stdout",
          "text": [
            "자생\n",
            "부생\n"
          ]
        }
      ]
    },
    {
      "cell_type": "code",
      "source": [
        "f = open(\"C:/Users/juzero/Desktop/a.txt\", mode=\"wt\", encoding=\"utf-8\")\n",
        "f.write(\"dd\\n\")\n",
        "f.write(\"89\")\n",
        "f.close()"
      ],
      "metadata": {
        "colab": {
          "base_uri": "https://localhost:8080/",
          "height": 229
        },
        "id": "mS_w90rxchfK",
        "outputId": "20fd47d2-e1d0-4a5a-96f8-8940403a0a62"
      },
      "execution_count": 57,
      "outputs": [
        {
          "output_type": "error",
          "ename": "FileNotFoundError",
          "evalue": "ignored",
          "traceback": [
            "\u001b[0;31m---------------------------------------------------------------------------\u001b[0m",
            "\u001b[0;31mFileNotFoundError\u001b[0m                         Traceback (most recent call last)",
            "\u001b[0;32m<ipython-input-57-69b51f657025>\u001b[0m in \u001b[0;36m<module>\u001b[0;34m()\u001b[0m\n\u001b[0;32m----> 1\u001b[0;31m \u001b[0mf\u001b[0m \u001b[0;34m=\u001b[0m \u001b[0mopen\u001b[0m\u001b[0;34m(\u001b[0m\u001b[0;34m\"c:/Users/juzero/Desktop/a.txt\"\u001b[0m\u001b[0;34m,\u001b[0m \u001b[0mmode\u001b[0m\u001b[0;34m=\u001b[0m\u001b[0;34m\"wt\"\u001b[0m\u001b[0;34m,\u001b[0m \u001b[0mencoding\u001b[0m\u001b[0;34m=\u001b[0m\u001b[0;34m\"utf-8\"\u001b[0m\u001b[0;34m)\u001b[0m\u001b[0;34m\u001b[0m\u001b[0;34m\u001b[0m\u001b[0m\n\u001b[0m\u001b[1;32m      2\u001b[0m \u001b[0mf\u001b[0m\u001b[0;34m.\u001b[0m\u001b[0mwrite\u001b[0m\u001b[0;34m(\u001b[0m\u001b[0;34m\"dd\\n\"\u001b[0m\u001b[0;34m)\u001b[0m\u001b[0;34m\u001b[0m\u001b[0;34m\u001b[0m\u001b[0m\n\u001b[1;32m      3\u001b[0m \u001b[0mf\u001b[0m\u001b[0;34m.\u001b[0m\u001b[0mwrite\u001b[0m\u001b[0;34m(\u001b[0m\u001b[0;34m\"89\"\u001b[0m\u001b[0;34m)\u001b[0m\u001b[0;34m\u001b[0m\u001b[0;34m\u001b[0m\u001b[0m\n\u001b[1;32m      4\u001b[0m \u001b[0mf\u001b[0m\u001b[0;34m.\u001b[0m\u001b[0mclose\u001b[0m\u001b[0;34m(\u001b[0m\u001b[0;34m)\u001b[0m\u001b[0;34m\u001b[0m\u001b[0;34m\u001b[0m\u001b[0m\n",
            "\u001b[0;31mFileNotFoundError\u001b[0m: [Errno 2] No such file or directory: 'c:/Users/juzero/Desktop/a.txt'"
          ]
        }
      ]
    },
    {
      "cell_type": "code",
      "source": [
        "import csv\n",
        "f = open(\"C:/Users/juzero/Desktop/a.csv\", mode=\"wt\", encoding=\"cp949\", newline=\"\")\n",
        "writet = csv.writer(f)\n",
        "writer.writerow([\"보\", \"석\"])\n",
        "writer.writerow([6, 0])\n",
        "f.close()"
      ],
      "metadata": {
        "id": "JWatQ7AYdCxX"
      },
      "execution_count": null,
      "outputs": []
    },
    {
      "cell_type": "code",
      "source": [
        "f = open(\"C:/Users/juzero/Desktop/a.txt\", encoding=\"utf-8\")\n",
        "lines = f.readlines()\n",
        "codes = []\n",
        "for line in lines:\n",
        "  code = line.strip()\n",
        "  codes.append(code)\n",
        "print(codes)\n",
        "f.close()"
      ],
      "metadata": {
        "id": "d0q7etmGdvls"
      },
      "execution_count": null,
      "outputs": []
    },
    {
      "cell_type": "code",
      "source": [
        "f = \n",
        "\n",
        "data = {}\n",
        "for line in lines:\n",
        "  line = line.strip()\n",
        "  k, v = line.split()\n",
        "  data[k] = v\n",
        "print(data)\n",
        "f.close()"
      ],
      "metadata": {
        "id": "YqETa8xeewyU"
      },
      "execution_count": null,
      "outputs": []
    },
    {
      "cell_type": "code",
      "source": [
        "#예외처리 에러 발생\n",
        "p = [\"2\", \"\"]\n",
        "np = []\n",
        "for i in p:\n",
        "  try:\n",
        "    nn = float(i)\n",
        "  except:\n",
        "    nn = 0\n",
        "  np.append(nn)\n",
        "print(np)"
      ],
      "metadata": {
        "colab": {
          "base_uri": "https://localhost:8080/"
        },
        "id": "ZAFOJc0ofLx4",
        "outputId": "f9ffeec0-1db6-4e17-9d54-64e68a3dd82e"
      },
      "execution_count": 59,
      "outputs": [
        {
          "output_type": "stream",
          "name": "stdout",
          "text": [
            "[2.0, 0]\n"
          ]
        }
      ]
    },
    {
      "cell_type": "code",
      "source": [
        "#특정 예외만 처리\n",
        "try:\n",
        "  b = 3 / 0\n",
        "except ZeroDivisionError:\n",
        "  print(\"no\")\n"
      ],
      "metadata": {
        "colab": {
          "base_uri": "https://localhost:8080/"
        },
        "id": "4V11LuW3gCtP",
        "outputId": "41dd5145-3f4e-4f91-f050-c86281165184"
      },
      "execution_count": 60,
      "outputs": [
        {
          "output_type": "stream",
          "name": "stdout",
          "text": [
            "no\n"
          ]
        }
      ]
    },
    {
      "cell_type": "code",
      "source": [
        "#예외 발생 시 에러 메세지를 변수로 바인딩\n",
        "data = [1, 2, 3]\n",
        "for i in range(5):\n",
        "  try:\n",
        "    print(data[i])\n",
        "  except IndexError as e:\n",
        "    print(e)\n",
        "  \n"
      ],
      "metadata": {
        "colab": {
          "base_uri": "https://localhost:8080/"
        },
        "id": "XjbphAjEgCpT",
        "outputId": "3984203c-6cb1-4c39-a71e-382ff6c1eda6"
      },
      "execution_count": 61,
      "outputs": [
        {
          "output_type": "stream",
          "name": "stdout",
          "text": [
            "1\n",
            "2\n",
            "3\n",
            "list index out of range\n",
            "list index out of range\n"
          ]
        }
      ]
    },
    {
      "cell_type": "code",
      "source": [
        "p = [\"20\", \"\"]\n",
        "for i in p:\n",
        "  try:\n",
        "    print(float(i))\n",
        "  except:\n",
        "    print(0)\n",
        "  else:\n",
        "    print(\"do\")\n",
        "  finally:\n",
        "    print(\"end\")"
      ],
      "metadata": {
        "colab": {
          "base_uri": "https://localhost:8080/"
        },
        "id": "s7LHTWtmgu1V",
        "outputId": "b3b2f703-1cd4-4450-a09a-360a02a1c2fa"
      },
      "execution_count": 62,
      "outputs": [
        {
          "output_type": "stream",
          "name": "stdout",
          "text": [
            "20.0\n",
            "do\n",
            "end\n",
            "0\n",
            "end\n"
          ]
        }
      ]
    }
  ]
}