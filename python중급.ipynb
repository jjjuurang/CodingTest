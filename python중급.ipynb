{
  "nbformat": 4,
  "nbformat_minor": 0,
  "metadata": {
    "colab": {
      "name": "python중급.ipynb",
      "provenance": []
    },
    "kernelspec": {
      "name": "python3",
      "display_name": "Python 3"
    },
    "language_info": {
      "name": "python"
    }
  },
  "cells": [
    {
      "cell_type": "code",
      "execution_count": 1,
      "metadata": {
        "colab": {
          "base_uri": "https://localhost:8080/"
        },
        "id": "adSLWjZ6CZeR",
        "outputId": "877b0d1e-a24f-4700-f65f-3c363e11d4a2"
      },
      "outputs": [
        {
          "output_type": "stream",
          "name": "stdout",
          "text": [
            "첫 파\n",
            "다른 인자 스\n",
            "다른 인자 타\n"
          ]
        }
      ],
      "source": [
        "#가변 갯수의 인자들을 함수에 넣\n",
        "#*args 키워드 되지않은 가변 갯수의 인자들을 함수에 보낼 때\n",
        "def t(f_arg, *argv):\n",
        "  print(\"첫\", f_arg)\n",
        "  for arg in argv:\n",
        "    print(\"다른 인자\", arg)\n",
        "t(\"파\", \"스\", \"타\")"
      ]
    },
    {
      "cell_type": "code",
      "source": [
        "#**kwargs 키워드된 가변 갯수의 인자들을 함수에 보낼 때 함수가 이름이 지정된 인자를 처리할 때\n",
        "#전달하고자 하는 인자들의 리스트나 사전을 가지고 함수를 호출\n",
        "def g(**kwargs):\n",
        "  if kwargs is not None:\n",
        "    for key, value in kwargs.items():\n",
        "      print(\"%s == %s\" %(key, value))\n",
        "g(name=\"dod\")\n"
      ],
      "metadata": {
        "colab": {
          "base_uri": "https://localhost:8080/"
        },
        "id": "dCsDIHpUCbDv",
        "outputId": "4815d7be-95b5-4f85-b41d-4eb20b4327fc"
      },
      "execution_count": 2,
      "outputs": [
        {
          "output_type": "stream",
          "name": "stdout",
          "text": [
            "name == dod\n"
          ]
        }
      ]
    },
    {
      "cell_type": "code",
      "source": [
        "def tt(arg1, arg2, arg3):\n",
        "  print(\"인자\", arg1)\n",
        "  print(arg2)\n",
        "  print(arg3)\n",
        "args = (\"two\", 1, 2)\n",
        "tt(*args)\n",
        "#키는 위 매개변수의 이름과 같아야\n",
        "kwargs = {\"arg3\": 2, \"arg2\": \"two\", \"arg1\": 4}\n",
        "tt(**kwargs)"
      ],
      "metadata": {
        "colab": {
          "base_uri": "https://localhost:8080/"
        },
        "id": "jGu62IHoCbAf",
        "outputId": "de57f777-39ac-49d7-c2dd-40d95c4e29f6"
      },
      "execution_count": 5,
      "outputs": [
        {
          "output_type": "stream",
          "name": "stdout",
          "text": [
            "인자 two\n",
            "1\n",
            "2\n",
            "인자 4\n",
            "two\n",
            "2\n"
          ]
        }
      ]
    },
    {
      "cell_type": "code",
      "source": [
        "f(fargs, *args, **kwargs)\n",
        "#함수의 데코레이터를 만들 때 몽키 패칭 런타임 실행 중에 코드 일부 수정"
      ],
      "metadata": {
        "id": "QCWXVPqECa91"
      },
      "execution_count": null,
      "outputs": []
    },
    {
      "cell_type": "code",
      "source": [
        "import someclass\n",
        "def get_info(self, *args):\n",
        "  return \"Test Data\"\n",
        "someclass.get_info = get_info"
      ],
      "metadata": {
        "id": "VpD99KjACa7e"
      },
      "execution_count": null,
      "outputs": []
    },
    {
      "cell_type": "code",
      "source": [
        "#커맨드라인에서 실행 파이썬 디버거를 통해 파이썬 스크립트를 실행\n",
        "#$ python -m pdb my_script.py\n",
        "#스크립트 내에서 실행\n",
        "import pdb\n",
        "def m():\n",
        "  #pdb.set_trace()\n",
        "  return \"no\"\n",
        "print(m())\n"
      ],
      "metadata": {
        "colab": {
          "base_uri": "https://localhost:8080/"
        },
        "id": "hsZEDYqyCa4r",
        "outputId": "e02271fa-79d3-4f9d-ef52-abc840afe20a"
      },
      "execution_count": 1,
      "outputs": [
        {
          "output_type": "stream",
          "name": "stdout",
          "text": [
            "no\n"
          ]
        }
      ]
    },
    {
      "cell_type": "code",
      "source": [
        "#c w a s n post mortem"
      ],
      "metadata": {
        "id": "Kd2XxZPlCa2S"
      },
      "execution_count": null,
      "outputs": []
    },
    {
      "cell_type": "code",
      "source": [
        "#반복자 이터레이터\n",
        "#반복가능 반복자를 반환하거나 반복자를 제공 할 수 있는 모든 객체\n",
        "#인덱스를 취할 수 있는 __iter__ __getitem__ 메소드가 정의 된 파이썬의 모든 객체\n",
        "#이터레이터 반복자 __next__ 메소드가 정의된 모든 객체\n",
        "#반복 루프로 어떤것을 옮기면 이터레이션 과정"
      ],
      "metadata": {
        "id": "PgukjEGnKWzG"
      },
      "execution_count": null,
      "outputs": []
    },
    {
      "cell_type": "code",
      "source": [
        "#제너레이터 이터레이터지만 단 한번만 반복\n",
        "#메모리에 모든 값을 저장하지 않기 값을 사용할 때 즉시 생성\n",
        "#for 반복을 통해 사용 함수로 구현 값을 반환 x 산출\n",
        "def g():\n",
        "  for i in range(5):\n",
        "    yield i\n",
        "for item in g():\n",
        "  print(item)\n",
        "#모든 결과물들을 메모리에 저장하지 않으면서 동시에 많은 샹의 결과 셋을 계산"
      ],
      "metadata": {
        "colab": {
          "base_uri": "https://localhost:8080/"
        },
        "id": "lRGOMxJ1KWWf",
        "outputId": "cb19a405-24da-4201-d6d3-347e8dbbdea0"
      },
      "execution_count": 3,
      "outputs": [
        {
          "output_type": "stream",
          "name": "stdout",
          "text": [
            "0\n",
            "1\n",
            "2\n",
            "3\n",
            "4\n"
          ]
        }
      ]
    },
    {
      "cell_type": "code",
      "source": [
        "def f(n):\n",
        "  a = b = 1\n",
        "  for i in range(n):\n",
        "    yield a\n",
        "    a, b = b, a+b\n",
        "for x in f(10):\n",
        "  print(x)\n"
      ],
      "metadata": {
        "colab": {
          "base_uri": "https://localhost:8080/"
        },
        "id": "dZXIssGRMU3O",
        "outputId": "62b27a8f-2969-41d3-83bd-be0f459fc8ac"
      },
      "execution_count": 4,
      "outputs": [
        {
          "output_type": "stream",
          "name": "stdout",
          "text": [
            "1\n",
            "1\n",
            "2\n",
            "3\n",
            "5\n",
            "8\n",
            "13\n",
            "21\n",
            "34\n",
            "55\n"
          ]
        }
      ]
    },
    {
      "cell_type": "code",
      "source": [
        "def ff(n):\n",
        "  a = b = 1\n",
        "  result = []\n",
        "  for i in range(n):\n",
        "    result.append(a)\n",
        "    a, b = b, a + b\n",
        "  return result"
      ],
      "metadata": {
        "id": "PWs0mk4uM2K8"
      },
      "execution_count": 5,
      "outputs": []
    },
    {
      "cell_type": "code",
      "source": [
        "def g():\n",
        "  for i in range(3):\n",
        "    yield i\n",
        "gg = g()\n",
        "print(next(gg))\n",
        "print(next(gg))"
      ],
      "metadata": {
        "colab": {
          "base_uri": "https://localhost:8080/"
        },
        "id": "kkTP9Eb0NOkY",
        "outputId": "a94e6666-39c9-4eb4-f373-1809c6630c1a"
      },
      "execution_count": 6,
      "outputs": [
        {
          "output_type": "stream",
          "name": "stdout",
          "text": [
            "0\n",
            "1\n"
          ]
        }
      ]
    },
    {
      "cell_type": "code",
      "source": [
        "m = \"u\"\n",
        "next(m)"
      ],
      "metadata": {
        "id": "NT_eddU-Nvyw"
      },
      "execution_count": null,
      "outputs": []
    },
    {
      "cell_type": "code",
      "source": [
        "m = \"sound\"\n",
        "i = iter(m)\n",
        "print(next(i))\n",
        "print(next(i))"
      ],
      "metadata": {
        "colab": {
          "base_uri": "https://localhost:8080/"
        },
        "id": "o1MimuHvOCoG",
        "outputId": "b652d252-4430-4981-ab66-93c427fb36c2"
      },
      "execution_count": 7,
      "outputs": [
        {
          "output_type": "stream",
          "name": "stdout",
          "text": [
            "s\n",
            "o\n"
          ]
        }
      ]
    },
    {
      "cell_type": "code",
      "source": [
        "i = [2, 4, 5]\n",
        "s = []\n",
        "for ii in i:\n",
        "  s.append(ii**2)"
      ],
      "metadata": {
        "colab": {
          "base_uri": "https://localhost:8080/"
        },
        "id": "hmn3h1ZROzHL",
        "outputId": "de82431b-4679-442d-b96f-7cd2782fcfc6"
      },
      "execution_count": 11,
      "outputs": [
        {
          "output_type": "stream",
          "name": "stdout",
          "text": [
            "[4, 16, 25]\n"
          ]
        }
      ]
    },
    {
      "cell_type": "code",
      "source": [
        "#map 입력 리스트들의 모든 항목에 함수를 적용\n",
        "i = [1, 3, 4]\n",
        "s = map(lambda x : x**2, i)"
      ],
      "metadata": {
        "id": "LpKB8AyROVCU"
      },
      "execution_count": 9,
      "outputs": []
    },
    {
      "cell_type": "code",
      "source": [
        "#리스트 형식의 입력값 대신에 함수들의 리스트를 사용\n",
        "def m(x):\n",
        "  return(x*x)\n",
        "def a(x):\n",
        "  return(x+x)\n",
        "f = [m, a]\n",
        "for i in range(3):\n",
        "  v = map(lambda x: x(i), f)"
      ],
      "metadata": {
        "colab": {
          "base_uri": "https://localhost:8080/"
        },
        "id": "WAHErz6dPGo3",
        "outputId": "a8036f3b-8163-4eea-e437-eb8d54423852"
      },
      "execution_count": 14,
      "outputs": [
        {
          "output_type": "stream",
          "name": "stdout",
          "text": [
            "[<function m at 0x7f9e5f28eef0>, <function a at 0x7f9e5f28e200>]\n"
          ]
        }
      ]
    },
    {
      "cell_type": "code",
      "source": [
        "n = range(-5, 5)\n",
        "m = list(filter(lambda x: x<0, n))\n",
        "print(m)"
      ],
      "metadata": {
        "colab": {
          "base_uri": "https://localhost:8080/"
        },
        "id": "khQgQ9XoP5CU",
        "outputId": "7dec2733-64d3-4ca1-cbd5-0bf2accff687"
      },
      "execution_count": 15,
      "outputs": [
        {
          "output_type": "stream",
          "name": "stdout",
          "text": [
            "[-5, -4, -3, -2, -1]\n"
          ]
        }
      ]
    },
    {
      "cell_type": "code",
      "source": [
        "from functools import reduce\n",
        "product = reduce((lambda x, y: x * y), [1, 2, 3])"
      ],
      "metadata": {
        "id": "UJdhls4tQU1M"
      },
      "execution_count": 16,
      "outputs": []
    },
    {
      "cell_type": "code",
      "source": [
        "l = [\"s\", \"o\", \"s\"]\n",
        "d = []\n",
        "for v in l:\n",
        "  if l.count(v) > 1:\n",
        "    if v not in d:\n",
        "      d.append(v)\n",
        "print(d)"
      ],
      "metadata": {
        "colab": {
          "base_uri": "https://localhost:8080/"
        },
        "id": "I4spFL1KQtWk",
        "outputId": "f769dca9-ed7f-444a-8180-43fc2fccfa64"
      },
      "execution_count": 17,
      "outputs": [
        {
          "output_type": "stream",
          "name": "stdout",
          "text": [
            "['s']\n"
          ]
        }
      ]
    },
    {
      "cell_type": "code",
      "source": [
        "l = [\"y\", \"e\", \"y\"]\n",
        "d = set([x for x in l if l.count(x) > 1])\n",
        "print(d)"
      ],
      "metadata": {
        "colab": {
          "base_uri": "https://localhost:8080/"
        },
        "id": "dC1w9nfQRL3C",
        "outputId": "2cadb531-cc0f-4f8b-e6ad-a294f24b1fa9"
      },
      "execution_count": 18,
      "outputs": [
        {
          "output_type": "stream",
          "name": "stdout",
          "text": [
            "{'y'}\n"
          ]
        }
      ]
    },
    {
      "cell_type": "code",
      "source": [
        "v = set([\"a\", \"s\"])\n",
        "i = set([\"s\", \"c\"])\n",
        "print(i.intersection(v))\n",
        "print(i.difference(v))\n"
      ],
      "metadata": {
        "colab": {
          "base_uri": "https://localhost:8080/"
        },
        "id": "zPGgFjDBRh1W",
        "outputId": "4c4ce3e3-a423-4295-a661-68f41b8f0414"
      },
      "execution_count": 20,
      "outputs": [
        {
          "output_type": "stream",
          "name": "stdout",
          "text": [
            "{'s'}\n",
            "{'c'}\n"
          ]
        }
      ]
    },
    {
      "cell_type": "code",
      "source": [
        "a = {\"r\" \"t\"}\n",
        "print(type(a))"
      ],
      "metadata": {
        "colab": {
          "base_uri": "https://localhost:8080/"
        },
        "id": "xTgAK4ckR-lS",
        "outputId": "9b6c16c1-c57d-4a7b-a3ab-5c34726db6f1"
      },
      "execution_count": 21,
      "outputs": [
        {
          "output_type": "stream",
          "name": "stdout",
          "text": [
            "<class 'set'>\n"
          ]
        }
      ]
    },
    {
      "cell_type": "code",
      "source": [
        "#삼항연산자 조건표현식\n",
        "f = True\n",
        "s = \"f\" if f else \"t\"\n"
      ],
      "metadata": {
        "id": "E9AnLC5KR2LR"
      },
      "execution_count": null,
      "outputs": []
    },
    {
      "cell_type": "code",
      "source": [
        "f = True\n",
        "ff = (\"t\", \"f\")[f]\n",
        "print(ff)"
      ],
      "metadata": {
        "colab": {
          "base_uri": "https://localhost:8080/"
        },
        "id": "6_dwqydUR99j",
        "outputId": "2f481b70-d01e-480c-d1f4-525f74c145d4"
      },
      "execution_count": 24,
      "outputs": [
        {
          "output_type": "stream",
          "name": "stdout",
          "text": [
            "f\n"
          ]
        }
      ]
    },
    {
      "cell_type": "code",
      "source": [
        "c = True\n",
        "print(2 if c else 1/0)"
      ],
      "metadata": {
        "colab": {
          "base_uri": "https://localhost:8080/"
        },
        "id": "k5yFhsuxTKEZ",
        "outputId": "f037e8b6-9ba8-4820-91d4-f1c235c5427d"
      },
      "execution_count": 25,
      "outputs": [
        {
          "output_type": "stream",
          "name": "stdout",
          "text": [
            "2\n"
          ]
        }
      ]
    },
    {
      "cell_type": "code",
      "source": [
        "#데코레이터 다른 함수의 기능을 조작\n",
        "def h(n=\"ju\"):\n",
        "  return \"hi \" + n\n",
        "print(h())\n",
        "#변수에 함수를 저장\n",
        "g = h\n",
        "print(g())\n",
        "del h\n",
        "print(g())"
      ],
      "metadata": {
        "colab": {
          "base_uri": "https://localhost:8080/"
        },
        "id": "As9yAkPiTgS6",
        "outputId": "dca9e234-2dce-4919-e493-9a790b788a8f"
      },
      "execution_count": 4,
      "outputs": [
        {
          "output_type": "stream",
          "name": "stdout",
          "text": [
            "hi ju\n",
            "hi ju\n",
            "hi ju\n"
          ]
        }
      ]
    },
    {
      "cell_type": "code",
      "source": [
        "#다른 함수 내에서 함수를 정의 중첩 함수\n",
        "def h(n=\"g\"):\n",
        "  print(\"h 안\")\n",
        "  def g():\n",
        "    return \"g 안\"\n",
        "  def w():\n",
        "    return \"w 안\"\n",
        "  print(g())\n",
        "  print(w())\n",
        "  print(\"h 안\")\n",
        "h()"
      ],
      "metadata": {
        "colab": {
          "base_uri": "https://localhost:8080/"
        },
        "id": "owiQ7xU6J4Ya",
        "outputId": "ff6d07f9-c1b5-4be3-ea0f-466276e63895"
      },
      "execution_count": 7,
      "outputs": [
        {
          "output_type": "stream",
          "name": "stdout",
          "text": [
            "h 안\n",
            "g 안\n",
            "w 안\n",
            "h 안\n"
          ]
        }
      ]
    },
    {
      "cell_type": "code",
      "source": [
        "#다른 함수 내에서 함수를 실행 x 출력으로 반환\n",
        "def h(n=\"ju\"):\n",
        "  def g():\n",
        "    return \"g 안\"\n",
        "  def w():\n",
        "    return \"w 안\"\n",
        "  if n == \"ju\":\n",
        "    return g\n",
        "  else:\n",
        "    return w\n",
        "a = h()\n",
        "print(a())"
      ],
      "metadata": {
        "colab": {
          "base_uri": "https://localhost:8080/"
        },
        "id": "li_5ri9pK8Yt",
        "outputId": "434e3513-14c4-4e52-cb51-a9809b77047a"
      },
      "execution_count": 11,
      "outputs": [
        {
          "output_type": "stream",
          "name": "stdout",
          "text": [
            "g 안\n"
          ]
        }
      ]
    },
    {
      "cell_type": "code",
      "source": [
        "#함수 전후에 코드를 실행\n",
        "def h():\n",
        "  return \"hi\"\n",
        "def b(func):\n",
        "  print(\"h 전\")\n",
        "  print(func())\n",
        "b(h)"
      ],
      "metadata": {
        "colab": {
          "base_uri": "https://localhost:8080/"
        },
        "id": "fyrS70S5L3g9",
        "outputId": "4cb0d2fb-f7e2-48bc-b74a-f781bb67a7d2"
      },
      "execution_count": 13,
      "outputs": [
        {
          "output_type": "stream",
          "name": "stdout",
          "text": [
            "h 전\n",
            "hi\n"
          ]
        }
      ]
    },
    {
      "cell_type": "code",
      "source": [
        "def d(a_func):\n",
        "  def w():\n",
        "    print(\"전\")\n",
        "    a_func()\n",
        "    print(\"후\")\n",
        "  return w()\n",
        "def a():\n",
        "  print(\"추가\")\n",
        "a()\n",
        "a = d(a)\n"
      ],
      "metadata": {
        "colab": {
          "base_uri": "https://localhost:8080/"
        },
        "id": "ZPeCknkyM-pw",
        "outputId": "5a3b072d-398c-4977-d121-469aae54da8b"
      },
      "execution_count": 18,
      "outputs": [
        {
          "output_type": "stream",
          "name": "stdout",
          "text": [
            "추가\n",
            "전\n",
            "추가\n",
            "후\n"
          ]
        }
      ]
    },
    {
      "cell_type": "code",
      "source": [
        "#@ 데코레이트된 함수를 만드는\n",
        "@d\n",
        "def a():\n",
        "  print(\"추가\")\n",
        "a\n",
        "a.__name__"
      ],
      "metadata": {
        "colab": {
          "base_uri": "https://localhost:8080/",
          "height": 266
        },
        "id": "thFC_XIPO4UN",
        "outputId": "d8787604-b132-4a71-a5b3-628e5f063cad"
      },
      "execution_count": 26,
      "outputs": [
        {
          "output_type": "stream",
          "name": "stdout",
          "text": [
            "전\n",
            "추가\n",
            "후\n"
          ]
        },
        {
          "output_type": "error",
          "ename": "AttributeError",
          "evalue": "ignored",
          "traceback": [
            "\u001b[0;31m---------------------------------------------------------------------------\u001b[0m",
            "\u001b[0;31mAttributeError\u001b[0m                            Traceback (most recent call last)",
            "\u001b[0;32m<ipython-input-26-48ef5944303c>\u001b[0m in \u001b[0;36m<module>\u001b[0;34m()\u001b[0m\n\u001b[1;32m      4\u001b[0m   \u001b[0mprint\u001b[0m\u001b[0;34m(\u001b[0m\u001b[0;34m\"추가\"\u001b[0m\u001b[0;34m)\u001b[0m\u001b[0;34m\u001b[0m\u001b[0;34m\u001b[0m\u001b[0m\n\u001b[1;32m      5\u001b[0m \u001b[0ma\u001b[0m\u001b[0;34m\u001b[0m\u001b[0;34m\u001b[0m\u001b[0m\n\u001b[0;32m----> 6\u001b[0;31m \u001b[0ma\u001b[0m\u001b[0;34m.\u001b[0m\u001b[0m__name__\u001b[0m\u001b[0;34m\u001b[0m\u001b[0;34m\u001b[0m\u001b[0m\n\u001b[0m",
            "\u001b[0;31mAttributeError\u001b[0m: 'NoneType' object has no attribute '__name__'"
          ]
        }
      ]
    },
    {
      "cell_type": "code",
      "source": [
        "from functools import wraps\n",
        "def d(a_func):\n",
        "  @wraps(a_func)\n",
        "  def w():\n",
        "    print(\"a 전\")\n",
        "    a_func()\n",
        "    print(\"a 후\")\n",
        "  return w\n",
        "@d\n",
        "def a():\n",
        "  print(\"추가\")\n",
        "print(a.__name__)\n"
      ],
      "metadata": {
        "colab": {
          "base_uri": "https://localhost:8080/"
        },
        "id": "YbvSugTHO4Qc",
        "outputId": "6e057e2f-f9c7-4653-ac36-41ce0a602643"
      },
      "execution_count": 27,
      "outputs": [
        {
          "output_type": "stream",
          "name": "stdout",
          "text": [
            "a\n"
          ]
        }
      ]
    },
    {
      "cell_type": "code",
      "source": [
        "#함수를 장식 함수 이름 독스트링 인자 리스트을 기능에 복사하여 추가 \n",
        "#데코레이터안에서 데코레이터가 장식되기 이전의 함수 속성에 접근 \n",
        "from functools import wraps\n",
        "def decorator(f):\n",
        "  @wraps(f)\n",
        "  def decorated(*args, **kwargs):\n",
        "    if not c:\n",
        "      return \"no\"\n",
        "    return f(*args, **kwargs)\n",
        "  return decorated\n",
        "@decorator\n",
        "def func():\n",
        "  print(\"중\")\n",
        "c = True\n",
        "print(func())\n",
        "c = False\n",
        "print(func())"
      ],
      "metadata": {
        "colab": {
          "base_uri": "https://localhost:8080/"
        },
        "id": "hLoLwYA5O4OL",
        "outputId": "103e4192-bc46-4974-d734-89a688c58e24"
      },
      "execution_count": 28,
      "outputs": [
        {
          "output_type": "stream",
          "name": "stdout",
          "text": [
            "중\n",
            "None\n",
            "no\n"
          ]
        }
      ]
    },
    {
      "cell_type": "code",
      "source": [
        "#웹 애플리케이션 내에서 엔드포인트에서 사용자가 인증요청시 확인\n",
        "from functools import wraps\n",
        "def requires_auth(f):\n",
        "  @wraps(f)\n",
        "  def decorated(*args, **kwargs):\n",
        "    auth = request.authorization\n",
        "    if not auth or not check_auth(auth.username, auth.password):\n",
        "      return authenticate()\n",
        "    return f(*args, **kwargs)\n",
        "  return decorated"
      ],
      "metadata": {
        "id": "OjitN3zDSfF2"
      },
      "execution_count": null,
      "outputs": []
    },
    {
      "cell_type": "code",
      "source": [
        "#로깅\n",
        "from functools import wraps\n",
        "def logit(func):\n",
        "  @wraps(func)\n",
        "  def with_logging(*args, **kwargs):\n",
        "    print(func.__name__ + \"was called\")\n",
        "  return with_loggint\n",
        "@logit\n",
        "def a(x):\n",
        "  return x + x\n",
        "result = a(5)"
      ],
      "metadata": {
        "id": "wFHKnZhXTYWF"
      },
      "execution_count": null,
      "outputs": []
    },
    {
      "cell_type": "code",
      "source": [
        "#전역변수 함수의 스코프 밖에서도 이 변수에 접근이 가능\n",
        "def a(v, vv):\n",
        "  global r\n",
        "  r = v + vv\n",
        "a(3, 6)\n",
        "r"
      ],
      "metadata": {
        "colab": {
          "base_uri": "https://localhost:8080/"
        },
        "id": "9ybnaEbDUQJo",
        "outputId": "2d921afe-c0b1-4eaf-f9a6-f01441be3807"
      },
      "execution_count": 29,
      "outputs": [
        {
          "output_type": "execute_result",
          "data": {
            "text/plain": [
              "9"
            ]
          },
          "metadata": {},
          "execution_count": 29
        }
      ]
    },
    {
      "cell_type": "code",
      "source": [
        "#tuple list dict\n",
        "def p():\n",
        "  n = \"me\"\n",
        "  a = 4\n",
        "  return (n, a)\n",
        "pp = p()\n",
        "print(pp[0])"
      ],
      "metadata": {
        "colab": {
          "base_uri": "https://localhost:8080/"
        },
        "id": "WeRp5k0pUnPL",
        "outputId": "f5f75fd9-dd4f-408d-cf0c-9b43bd89f79b"
      },
      "execution_count": 31,
      "outputs": [
        {
          "output_type": "stream",
          "name": "stdout",
          "text": [
            "me\n"
          ]
        }
      ]
    },
    {
      "cell_type": "code",
      "source": [
        "def p():\n",
        "  n = \"me\"\n",
        "  a = 3\n",
        "  return n, a\n",
        "pn, pn = p()\n",
        "print(pn)"
      ],
      "metadata": {
        "colab": {
          "base_uri": "https://localhost:8080/"
        },
        "id": "5YB3ssYKVE2H",
        "outputId": "eb0e4bb8-3f27-4225-ebcf-b01d2c334390"
      },
      "execution_count": 32,
      "outputs": [
        {
          "output_type": "stream",
          "name": "stdout",
          "text": [
            "3\n"
          ]
        }
      ]
    },
    {
      "cell_type": "code",
      "source": [
        ""
      ],
      "metadata": {
        "id": "CTKSQMEdVEyo"
      },
      "execution_count": null,
      "outputs": []
    }
  ]
}